{
 "cells": [
  {
   "cell_type": "code",
   "execution_count": null,
   "metadata": {},
   "outputs": [],
   "source": [
    "import os\n",
    "import json\n",
    "import ipywidgets as widgets\n",
    "from ipywidgets import Button, HBox, VBox, ToggleButtons, ToggleButton, Layout\n",
    "\n",
    "import numpy as np\n",
    "import pandas as pd\n",
    "import qgrid\n",
    "\n",
    "import requests\n",
    "from urllib.parse import urljoin\n",
    "from jinja2 import Environment, FileSystemLoader\n",
    "from IPython.display import display"
   ]
  },
  {
   "cell_type": "code",
   "execution_count": null,
   "metadata": {},
   "outputs": [],
   "source": [
    "base_url = 'http://127.0.0.1:8000'"
   ]
  },
  {
   "cell_type": "code",
   "execution_count": null,
   "metadata": {},
   "outputs": [],
   "source": [
    "session = requests.Session()"
   ]
  },
  {
   "cell_type": "code",
   "execution_count": null,
   "metadata": {},
   "outputs": [],
   "source": [
    "template_loader = FileSystemLoader(searchpath=\"./templates\")\n",
    "template_env = Environment(loader=template_loader)\n"
   ]
  },
  {
   "cell_type": "code",
   "execution_count": null,
   "metadata": {},
   "outputs": [],
   "source": [
    "all_topics_template = template_env.get_template('all_topics.html')\n",
    "topic_template = template_env.get_template('show_topic.html')\n",
    "document_template = template_env.get_template('show_document.html')"
   ]
  },
  {
   "cell_type": "code",
   "execution_count": null,
   "metadata": {},
   "outputs": [],
   "source": [
    "def get_number_of_topics(session):\n",
    "    r = session.get(urljoin(base_url, '/topics/number'))\n",
    "    return r.json()['num_topics']"
   ]
  },
  {
   "cell_type": "code",
   "execution_count": null,
   "metadata": {},
   "outputs": [],
   "source": [
    "num_topics = get_number_of_topics(session)"
   ]
  },
  {
   "cell_type": "code",
   "execution_count": null,
   "metadata": {},
   "outputs": [],
   "source": [
    "def get_topics(session, num_topics):\n",
    "    payload = {'num_topics':num_topics}\n",
    "    r = session.get(urljoin(base_url, '/topics/get-topics'), params=payload)\n",
    "    return r.json()"
   ]
  },
  {
   "cell_type": "code",
   "execution_count": null,
   "metadata": {},
   "outputs": [],
   "source": [
    "topics = get_topics(session, num_topics)\n",
    "topics_dict = {t['topic_num']: t['topic_words'] for t in topics}"
   ]
  },
  {
   "cell_type": "code",
   "execution_count": null,
   "metadata": {},
   "outputs": [],
   "source": [
    "top_words_in_topic = [(t['topic_num'], ', '.join(t['topic_words'][:10])) for t in topics]"
   ]
  },
  {
   "cell_type": "code",
   "execution_count": null,
   "metadata": {},
   "outputs": [],
   "source": [
    "rendered_all_topics = all_topics_template.render(topics=top_words_in_topic)"
   ]
  },
  {
   "cell_type": "code",
   "execution_count": null,
   "metadata": {},
   "outputs": [],
   "source": [
    "def search_contains_word(session, word):\n",
    "    payload = {'keywords': [word], 'keywords_neg': [], 'num_docs': 5}\n",
    "    r = session.post(urljoin(base_url, '/documents/search-by-keyword'), data=json.dumps(payload))\n",
    "    return r.json()"
   ]
  },
  {
   "cell_type": "code",
   "execution_count": null,
   "metadata": {},
   "outputs": [],
   "source": []
  },
  {
   "cell_type": "code",
   "execution_count": null,
   "metadata": {},
   "outputs": [],
   "source": []
  },
  {
   "cell_type": "code",
   "execution_count": null,
   "metadata": {},
   "outputs": [],
   "source": []
  },
  {
   "cell_type": "code",
   "execution_count": null,
   "metadata": {},
   "outputs": [],
   "source": [
    "initial_topic_num = 0"
   ]
  },
  {
   "cell_type": "code",
   "execution_count": null,
   "metadata": {},
   "outputs": [],
   "source": [
    "topic_select_textbox = widgets.BoundedIntText(\n",
    "                        value=initial_topic_num,\n",
    "                        min=0,\n",
    "                        max=num_topics-1,\n",
    "                        step=1,\n",
    "                        description='',\n",
    "                        disabled=False,\n",
    "                    )"
   ]
  },
  {
   "cell_type": "code",
   "execution_count": null,
   "metadata": {},
   "outputs": [],
   "source": [
    "topic_select_slider = widgets.IntSlider(\n",
    "    value=initial_topic_num,\n",
    "    min=0,\n",
    "    max=num_topics-1,\n",
    "    step=1,\n",
    "    description='Topic:',\n",
    "    disabled=False,\n",
    "    orientation='horizontal',\n",
    "    readout=False,\n",
    "    readout_format='d',\n",
    ")"
   ]
  },
  {
   "cell_type": "code",
   "execution_count": null,
   "metadata": {},
   "outputs": [],
   "source": [
    "topic_words_widget = widgets.HTML(\n",
    "        value = all_topics_template.render(topics=top_words_in_topic)\n",
    "    )\n",
    "topic_words_formatted = HBox([topic_words_widget], layout=Layout(height='250px', overflow_y='auto'))"
   ]
  },
  {
   "cell_type": "code",
   "execution_count": null,
   "metadata": {},
   "outputs": [],
   "source": [
    "topic_num_link = widgets.link((topic_select_slider, 'value'), (topic_select_textbox, 'value'))"
   ]
  },
  {
   "cell_type": "code",
   "execution_count": null,
   "metadata": {},
   "outputs": [],
   "source": [
    "def on_show_all_buttons_check(change):\n",
    "    if change.new:\n",
    "        rendered_all_topics = all_topics_template.render(topics=top_words_in_topic)\n",
    "        topic_words_widget.value = rendered_all_topics\n",
    "        topic_words_formatted.layout = Layout(height='250px', overflow_y='auto')\n",
    "    else:\n",
    "        topic_words_widget.value = ''\n",
    "        topic_words_formatted.layout.display = 'none'"
   ]
  },
  {
   "cell_type": "code",
   "execution_count": null,
   "metadata": {},
   "outputs": [],
   "source": [
    "show_all_topics_check = widgets.Checkbox(value=True, description='Show top words for all topics', indent=False)\n",
    "show_all_topics_check.observe(on_show_all_buttons_check, 'value')"
   ]
  },
  {
   "cell_type": "code",
   "execution_count": null,
   "metadata": {},
   "outputs": [],
   "source": [
    "related_docs_widget = widgets.HTML(\n",
    "        value = ''\n",
    "    )"
   ]
  },
  {
   "cell_type": "code",
   "execution_count": null,
   "metadata": {},
   "outputs": [],
   "source": [
    "def on_button_group_click(change):\n",
    "    if not change['owner'].options:\n",
    "        related_docs_widget.value = ''\n",
    "    elif (change['new'] == change['owner'].options[0]) and (change['old'] not in change['owner'].options):\n",
    "        related_docs_widget.value = ''\n",
    "    else:\n",
    "        word = change['new']\n",
    "        related_docs = search_contains_word(session, word)\n",
    "        rendered_documents = document_template.render(documents=related_docs, character_limit=300, keywords=[word])\n",
    "        related_docs_widget.value = rendered_documents"
   ]
  },
  {
   "cell_type": "code",
   "execution_count": null,
   "metadata": {},
   "outputs": [],
   "source": [
    "word_search_buttons = ToggleButtons(options=[], disabled=False)\n",
    "word_search_buttons.observe(on_button_group_click, 'value')"
   ]
  },
  {
   "cell_type": "code",
   "execution_count": null,
   "metadata": {},
   "outputs": [],
   "source": [
    "if initial_topic_num != num_topics:\n",
    "    word_search_buttons.options = topics_dict[initial_topic_num]"
   ]
  },
  {
   "cell_type": "code",
   "execution_count": null,
   "metadata": {},
   "outputs": [],
   "source": [
    "def handle_slider_change(change):\n",
    "    topic_num = change.new\n",
    "    word_search_buttons.options = [] # This is hacky\n",
    "    word_search_buttons.options = topics_dict[topic_num]\n",
    "\n",
    "topic_select_slider.observe(handle_slider_change, names='value')"
   ]
  },
  {
   "cell_type": "code",
   "execution_count": null,
   "metadata": {},
   "outputs": [],
   "source": [
    "overview = widgets.HTML('<h1>Topic explorer</h1>')\n",
    "individual_topic_overview = widgets.HTML(\n",
    "\"\"\"<h3>Investigate a specific topic</h3>\n",
    "Move the slider (or use the textbox) to see all of the words for a specific topic. You can click on a word\n",
    "to see search for documents containing that word.\n",
    "\"\"\")"
   ]
  },
  {
   "cell_type": "code",
   "execution_count": null,
   "metadata": {},
   "outputs": [],
   "source": [
    "top_box = HBox([topic_select_slider, topic_select_textbox])\n",
    "topic_explorer = VBox([overview, show_all_topics_check, topic_words_formatted, individual_topic_overview, \n",
    "                       top_box, word_search_buttons, related_docs_widget])"
   ]
  },
  {
   "cell_type": "code",
   "execution_count": null,
   "metadata": {},
   "outputs": [],
   "source": [
    "topic_explorer"
   ]
  },
  {
   "cell_type": "code",
   "execution_count": null,
   "metadata": {},
   "outputs": [],
   "source": []
  },
  {
   "cell_type": "code",
   "execution_count": null,
   "metadata": {},
   "outputs": [],
   "source": [
    "def find_related_words(session, keywords):\n",
    "    related_words = []\n",
    "    related_words.extend([{'word': w} for w in keywords])\n",
    "    # Find 3 related words for each word\n",
    "    word_limit = 3\n",
    "    for word in keywords:\n",
    "        payload = {'keywords': [word], 'keywords_neg': [], 'num_words': word_limit}\n",
    "        r = session.post(urljoin(base_url, '/words/find-similar'), data=json.dumps(payload))\n",
    "        if r.status_code == 200:\n",
    "            related_words.extend(r.json())\n",
    "    \n",
    "    return list(set([w['word'] for w in related_words]))"
   ]
  },
  {
   "cell_type": "code",
   "execution_count": null,
   "metadata": {},
   "outputs": [],
   "source": [
    "def search_docs_semantic_keywords(session, keywords, num_docs=10):\n",
    "    payload = {'keywords': keywords, 'keywords_neg': [], 'num_docs': num_docs}\n",
    "    r = session.post(urljoin(base_url, '/documents/search-by-keyword'), data=json.dumps(payload))\n",
    "    return r.json()"
   ]
  },
  {
   "cell_type": "code",
   "execution_count": null,
   "metadata": {},
   "outputs": [],
   "source": [
    "style = {'description_width': 'initial'}\n",
    "\n",
    "search_box_overview = widgets.HTML(\n",
    "\"\"\"<h3>Search for documents containing specific keywords</h3>\n",
    "Enter keywords (separated by semicolons) to search for documents containing those words. By default\n",
    "it will also search for documents containing related words.\n",
    "\"\"\")\n",
    "search_options_header = widgets.HTML(\"\"\"<p><u>Search options</u></p>\"\"\")"
   ]
  },
  {
   "cell_type": "code",
   "execution_count": null,
   "metadata": {},
   "outputs": [],
   "source": [
    "use_semantic_search_check = widgets.Checkbox(value=True, description='Include related words in search', indent=False)"
   ]
  },
  {
   "cell_type": "code",
   "execution_count": null,
   "metadata": {},
   "outputs": [],
   "source": [
    "search_results_widget = widgets.HTML(\n",
    "        value = ''\n",
    "    )"
   ]
  },
  {
   "cell_type": "code",
   "execution_count": null,
   "metadata": {},
   "outputs": [],
   "source": [
    "def run_search(query):\n",
    "    if query:\n",
    "        words = [w.strip() for w in query.split(';')]\n",
    "\n",
    "        if use_semantic_search_check.value:\n",
    "            words_to_search = find_related_words(session, words)\n",
    "        else:\n",
    "            words_to_search = words\n",
    "\n",
    "        search_results = search_docs_semantic_keywords(session, words_to_search, num_docs=search_doc_limit.value)\n",
    "        rendered_documents = document_template.render(documents=search_results, character_limit=doc_char_limit.value, \n",
    "                                                      keywords=words_to_search)\n",
    "        search_results_widget.value = rendered_documents\n",
    "    else:\n",
    "        search_results_widget.value = ''"
   ]
  },
  {
   "cell_type": "code",
   "execution_count": null,
   "metadata": {},
   "outputs": [],
   "source": [
    "def on_search_box_change(change):\n",
    "    run_search(change['new'])"
   ]
  },
  {
   "cell_type": "code",
   "execution_count": null,
   "metadata": {},
   "outputs": [],
   "source": [
    "search_box = widgets.Text(\n",
    "    value='',\n",
    "    placeholder='words ; to ; search ; for',\n",
    "    description='Search for keywords separated by semicolons:',\n",
    "    disabled=False,\n",
    "    style=style,\n",
    "    layout=Layout(width='75%'),\n",
    "    continuous_update=False\n",
    ")\n",
    "search_box.observe(on_search_box_change, names='value')"
   ]
  },
  {
   "cell_type": "code",
   "execution_count": null,
   "metadata": {},
   "outputs": [],
   "source": [
    "search_doc_limit = widgets.BoundedIntText(\n",
    "    value=10,\n",
    "    min=0,\n",
    "    max=1000,\n",
    "    step=1,\n",
    "    description='Number of documents to return:',\n",
    "    disabled=False,\n",
    "    style=style\n",
    ")"
   ]
  },
  {
   "cell_type": "code",
   "execution_count": null,
   "metadata": {},
   "outputs": [],
   "source": [
    "doc_char_limit = widgets.BoundedIntText(\n",
    "    value=300,\n",
    "    min=0,\n",
    "    max=10000,\n",
    "    step=1,\n",
    "    description='Show first N characters of document:',\n",
    "    disabled=False,\n",
    "    style=style\n",
    ")"
   ]
  },
  {
   "cell_type": "code",
   "execution_count": null,
   "metadata": {},
   "outputs": [],
   "source": [
    "def on_search_button_click(b):\n",
    "    run_search(search_box.value)"
   ]
  },
  {
   "cell_type": "code",
   "execution_count": null,
   "metadata": {},
   "outputs": [],
   "source": [
    "search_button = widgets.Button(\n",
    "    description='Search',\n",
    "    disabled=False,\n",
    "    button_style='', # 'success', 'info', 'warning', 'danger' or ''\n",
    "    tooltip='Search for documents containing keywords',\n",
    "    icon='check' # (FontAwesome names without the `fa-` prefix)\n",
    ")\n",
    "search_button.on_click(on_search_button_click)"
   ]
  },
  {
   "cell_type": "code",
   "execution_count": null,
   "metadata": {},
   "outputs": [],
   "source": [
    "search_tools = HBox([search_box, search_button])\n",
    "search_options = VBox([search_options_header, HBox([search_doc_limit, doc_char_limit, use_semantic_search_check])])"
   ]
  },
  {
   "cell_type": "code",
   "execution_count": null,
   "metadata": {
    "scrolled": false
   },
   "outputs": [],
   "source": [
    "widgets.VBox([search_box_overview, search_tools, search_options, search_results_widget])"
   ]
  },
  {
   "cell_type": "code",
   "execution_count": null,
   "metadata": {},
   "outputs": [],
   "source": []
  },
  {
   "cell_type": "code",
   "execution_count": null,
   "metadata": {},
   "outputs": [],
   "source": []
  },
  {
   "cell_type": "code",
   "execution_count": null,
   "metadata": {},
   "outputs": [],
   "source": []
  },
  {
   "cell_type": "code",
   "execution_count": null,
   "metadata": {},
   "outputs": [],
   "source": []
  },
  {
   "cell_type": "code",
   "execution_count": null,
   "metadata": {},
   "outputs": [],
   "source": []
  },
  {
   "cell_type": "code",
   "execution_count": null,
   "metadata": {},
   "outputs": [],
   "source": [
    "# def search_keywords_semantic(session, keywords, num_topics=5):\n",
    "#     payload = {'keywords': keywords, 'keywords_neg': [], 'num_topics': num_topics}\n",
    "#     r = session.post(urljoin(base_url, '/topics/search'), data=json.dumps(payload))\n",
    "#     return r.json()"
   ]
  },
  {
   "cell_type": "code",
   "execution_count": null,
   "metadata": {},
   "outputs": [],
   "source": [
    "# buttons = ToggleButtons(options=topics_dict[0])\n",
    "# # buttons = ToggleButtons(options=[])\n",
    "# buttons"
   ]
  },
  {
   "cell_type": "code",
   "execution_count": null,
   "metadata": {},
   "outputs": [],
   "source": [
    "# def on_button_group_click(change):\n",
    "#     if change['new']:\n",
    "#         print(change)\n",
    "# #         word = change['new']\n",
    "# #         related_docs = search_contains_word(session, word)\n",
    "# #         rendered_documents = document_template.render(documents=related_docs, character_limit=300)\n",
    "# #         related_docs_widget.value = rendered_documents\n",
    "        \n",
    "        \n",
    "# buttons.observe(on_button_group_click, 'value')"
   ]
  },
  {
   "cell_type": "code",
   "execution_count": null,
   "metadata": {},
   "outputs": [],
   "source": []
  },
  {
   "cell_type": "code",
   "execution_count": null,
   "metadata": {},
   "outputs": [],
   "source": [
    "# toggle = ToggleButton(description='tommy')\n",
    "# VBox([toggle, related_docs_widget])"
   ]
  },
  {
   "cell_type": "code",
   "execution_count": null,
   "metadata": {},
   "outputs": [],
   "source": [
    "# def on_word_button_click(change):\n",
    "#     if change['new']:\n",
    "#         word = change['owner'].description\n",
    "#         related_docs = search_contains_word(session, word)\n",
    "#         rendered_documents = document_template.render(documents=related_docs, character_limit=300)\n",
    "#         related_docs_widget.value = rendered_documents\n",
    "        \n",
    "        \n",
    "# toggle.observe(on_word_button_click, 'value')"
   ]
  },
  {
   "cell_type": "code",
   "execution_count": null,
   "metadata": {},
   "outputs": [],
   "source": []
  },
  {
   "cell_type": "code",
   "execution_count": null,
   "metadata": {},
   "outputs": [],
   "source": [
    "\n",
    "    "
   ]
  },
  {
   "cell_type": "code",
   "execution_count": null,
   "metadata": {},
   "outputs": [],
   "source": [
    "# related_docs = search_contains_word(session, 'tommy')\n",
    "# related_docs"
   ]
  },
  {
   "cell_type": "code",
   "execution_count": null,
   "metadata": {},
   "outputs": [],
   "source": [
    "# rendered_documents = document_template.render(documents=related_docs, character_limit=300)"
   ]
  },
  {
   "cell_type": "code",
   "execution_count": null,
   "metadata": {},
   "outputs": [],
   "source": [
    "# related_docs_widget = widgets.HTML(\n",
    "#         value = ''\n",
    "#     )\n",
    "\n",
    "# related_docs_widget"
   ]
  },
  {
   "cell_type": "code",
   "execution_count": null,
   "metadata": {},
   "outputs": [],
   "source": [
    "# word = 'handguns'\n",
    "# payload = {'keywords': [word], 'keywords_neg': [], 'num_docs': 5}\n",
    "# r = session.post(urljoin(base_url, '/documents/search-by-keyword'), data=json.dumps(payload))\n",
    "# r.status_code"
   ]
  },
  {
   "cell_type": "code",
   "execution_count": null,
   "metadata": {},
   "outputs": [],
   "source": [
    "# r.json()"
   ]
  },
  {
   "cell_type": "code",
   "execution_count": null,
   "metadata": {},
   "outputs": [],
   "source": []
  },
  {
   "cell_type": "code",
   "execution_count": null,
   "metadata": {},
   "outputs": [],
   "source": []
  },
  {
   "cell_type": "code",
   "execution_count": null,
   "metadata": {},
   "outputs": [],
   "source": [
    "# payload = {'topic_num': 5, 'num_docs': 10}\n",
    "# results = session.`get(urljoin(base_url, '/documents/search-by-topic'), params=payload)"
   ]
  },
  {
   "cell_type": "code",
   "execution_count": null,
   "metadata": {
    "scrolled": true
   },
   "outputs": [],
   "source": [
    "# results.json()"
   ]
  },
  {
   "cell_type": "code",
   "execution_count": null,
   "metadata": {},
   "outputs": [],
   "source": []
  },
  {
   "cell_type": "code",
   "execution_count": null,
   "metadata": {},
   "outputs": [],
   "source": [
    "# payload = {'num_topics':77}\n",
    "# results = session.get(urljoin(base_url, '/topics/get-topics'), params=payload)\n",
    "# results.json()"
   ]
  },
  {
   "cell_type": "code",
   "execution_count": null,
   "metadata": {},
   "outputs": [],
   "source": []
  },
  {
   "cell_type": "code",
   "execution_count": null,
   "metadata": {},
   "outputs": [],
   "source": []
  },
  {
   "cell_type": "code",
   "execution_count": null,
   "metadata": {},
   "outputs": [],
   "source": []
  },
  {
   "cell_type": "code",
   "execution_count": null,
   "metadata": {},
   "outputs": [],
   "source": []
  }
 ],
 "metadata": {
  "kernelspec": {
   "display_name": "Python 3",
   "language": "python",
   "name": "python3"
  },
  "language_info": {
   "codemirror_mode": {
    "name": "ipython",
    "version": 3
   },
   "file_extension": ".py",
   "mimetype": "text/x-python",
   "name": "python",
   "nbconvert_exporter": "python",
   "pygments_lexer": "ipython3",
   "version": "3.8.2"
  }
 },
 "nbformat": 4,
 "nbformat_minor": 4
}
